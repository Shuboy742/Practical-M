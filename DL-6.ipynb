{
 "cells": [
  {
   "cell_type": "code",
   "execution_count": 1,
   "id": "a288b10e",
   "metadata": {},
   "outputs": [
    {
     "name": "stderr",
     "output_type": "stream",
     "text": [
      "2024-04-12 16:32:16.862276: I tensorflow/core/util/port.cc:110] oneDNN custom operations are on. You may see slightly different numerical results due to floating-point round-off errors from different computation orders. To turn them off, set the environment variable `TF_ENABLE_ONEDNN_OPTS=0`.\n",
      "2024-04-12 16:32:16.864340: I tensorflow/tsl/cuda/cudart_stub.cc:28] Could not find cuda drivers on your machine, GPU will not be used.\n",
      "2024-04-12 16:32:16.904858: I tensorflow/tsl/cuda/cudart_stub.cc:28] Could not find cuda drivers on your machine, GPU will not be used.\n",
      "2024-04-12 16:32:16.905178: I tensorflow/core/platform/cpu_feature_guard.cc:182] This TensorFlow binary is optimized to use available CPU instructions in performance-critical operations.\n",
      "To enable the following instructions: AVX2 AVX_VNNI FMA, in other operations, rebuild TensorFlow with the appropriate compiler flags.\n",
      "2024-04-12 16:32:17.681543: W tensorflow/compiler/tf2tensorrt/utils/py_utils.cc:38] TF-TRT Warning: Could not find TensorRT\n"
     ]
    },
    {
     "name": "stdout",
     "output_type": "stream",
     "text": [
      "Epoch 1/5\n",
      "782/782 [==============================] - 57s 70ms/step - loss: 0.4084 - accuracy: 0.8084 - val_loss: 0.3453 - val_accuracy: 0.8514\n",
      "Epoch 2/5\n",
      "782/782 [==============================] - 50s 64ms/step - loss: 0.2644 - accuracy: 0.8930 - val_loss: 0.3538 - val_accuracy: 0.8485\n",
      "Epoch 3/5\n",
      "782/782 [==============================] - 48s 61ms/step - loss: 0.1958 - accuracy: 0.9224 - val_loss: 0.3773 - val_accuracy: 0.8477\n",
      "Epoch 4/5\n",
      "782/782 [==============================] - 45s 57ms/step - loss: 0.1431 - accuracy: 0.9463 - val_loss: 0.5932 - val_accuracy: 0.8328\n",
      "Epoch 5/5\n",
      "782/782 [==============================] - 45s 57ms/step - loss: 0.1059 - accuracy: 0.9617 - val_loss: 0.5371 - val_accuracy: 0.8349\n",
      "782/782 [==============================] - 7s 8ms/step - loss: 0.5371 - accuracy: 0.8349\n",
      "Test score: 0.5371432900428772\n",
      "Test accuracy: 0.8349199891090393\n"
     ]
    }
   ],
   "source": [
    "import tensorflow as tf\n",
    "from tensorflow.keras.datasets import imdb \n",
    "from tensorflow.keras.models import Sequential\n",
    "from tensorflow.keras.layers import Embedding, LSTM, Dense\n",
    "from tensorflow.keras.preprocessing.sequence import pad_sequences\n",
    "# Set the parameters\n",
    "max_features = 10000 # Number of words to consider as features\n",
    "maxlen = 100 # Cut texts after this number of words (among top max_features most common words)\n",
    "batch_size = 32\n",
    "# Load the IMDB dataset\n",
    "(x_train, y_train), (x_test, y_test) = imdb.load_data(num_words=max_features)\n",
    "# Pad sequences to have a consistent length for the input to the RNN \n",
    "x_train = pad_sequences(x_train, maxlen=maxlen)\n",
    "x_test = pad_sequences(x_test, maxlen=maxlen)\n",
    "# Build the RNN model with LSTM \n",
    "model = Sequential()\n",
    "model.add(Embedding(max_features, 128)) \n",
    "model.add(LSTM(64, dropout=0.2,\n",
    "recurrent_dropout=0.2)) \n",
    "model.add(Dense(1, activation='sigmoid'))\n",
    "\n",
    "# Compile the model\n",
    "model.compile(loss='binary_crossentropy',\n",
    "optimizer='adam', metrics=['accuracy'])\n",
    "# Train the model \n",
    "model.fit(x_train,y_train,batch_size=batch_size, epochs=5,validation_data=(x_test, y_test))\n",
    "\n",
    "# Evaluate the model\n",
    "score, acc = model.evaluate(x_test, y_test, batch_size=batch_size) \n",
    "print(f'Test score: {score}')\n",
    "print(f'Test accuracy: {acc}')\n"
   ]
  },
  {
   "cell_type": "code",
   "execution_count": 2,
   "id": "bc0d7db4",
   "metadata": {},
   "outputs": [
    {
     "data": {
      "text/plain": [
       "(25000, 100)"
      ]
     },
     "execution_count": 2,
     "metadata": {},
     "output_type": "execute_result"
    }
   ],
   "source": [
    "x_train.shape"
   ]
  },
  {
   "cell_type": "code",
   "execution_count": null,
   "id": "8ce6d65f",
   "metadata": {},
   "outputs": [],
   "source": []
  }
 ],
 "metadata": {
  "kernelspec": {
   "display_name": "Python 3 (ipykernel)",
   "language": "python",
   "name": "python3"
  },
  "language_info": {
   "codemirror_mode": {
    "name": "ipython",
    "version": 3
   },
   "file_extension": ".py",
   "mimetype": "text/x-python",
   "name": "python",
   "nbconvert_exporter": "python",
   "pygments_lexer": "ipython3",
   "version": "3.9.12"
  }
 },
 "nbformat": 4,
 "nbformat_minor": 5
}
