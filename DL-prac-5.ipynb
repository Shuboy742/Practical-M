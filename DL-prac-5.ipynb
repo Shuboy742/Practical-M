{
  "nbformat": 4,
  "nbformat_minor": 0,
  "metadata": {
    "colab": {
      "provenance": []
    },
    "kernelspec": {
      "name": "python3",
      "display_name": "Python 3"
    },
    "language_info": {
      "name": "python"
    }
  },
  "cells": [
    {
      "cell_type": "code",
      "execution_count": 1,
      "metadata": {
        "id": "_VuAc9aKVlZf"
      },
      "outputs": [],
      "source": [
        "#Perform Sentiment Analysis in the network graph using RNN."
      ]
    },
    {
      "cell_type": "code",
      "source": [
        "import tensorflow as tf\n",
        "from tensorflow.keras.datasets import imdb\n",
        "from tensorflow.keras.preprocessing.sequence import pad_sequences\n",
        "\n",
        "# Load the IMDb movie review dataset\n",
        "vocab_size = 10000  # Use the top 10,000 words\n",
        "max_length = 200    # Limit the review length to 200 words\n",
        "(x_train, y_train), (x_test, y_test) = imdb.load_data(num_words=vocab_size)\n",
        "\n",
        "# Pad sequences to ensure uniform length\n",
        "x_train = pad_sequences(x_train, maxlen=max_length)\n",
        "x_test = pad_sequences(x_test, maxlen=max_length)\n"
      ],
      "metadata": {
        "colab": {
          "base_uri": "https://localhost:8080/"
        },
        "id": "LW6ukbxGWKGF",
        "outputId": "90ce5978-1a74-42e5-de02-dbd3e41da8de"
      },
      "execution_count": 3,
      "outputs": [
        {
          "output_type": "stream",
          "name": "stdout",
          "text": [
            "Downloading data from https://storage.googleapis.com/tensorflow/tf-keras-datasets/imdb.npz\n",
            "17464789/17464789 [==============================] - 0s 0us/step\n"
          ]
        }
      ]
    },
    {
      "cell_type": "code",
      "source": [
        "from tensorflow.keras.layers import Embedding, LSTM, Dense\n",
        "from tensorflow.keras.models import Sequential\n",
        "\n",
        "# Define the RNN model\n",
        "model = Sequential([\n",
        "    Embedding(input_dim=vocab_size, output_dim=64, input_length=max_length),\n",
        "    LSTM(units=64),\n",
        "    Dense(units=1, activation='sigmoid')\n",
        "])\n",
        "\n",
        "model.compile(optimizer='adam', loss='binary_crossentropy', metrics=['accuracy'])\n",
        "\n",
        "# Train the model\n",
        "model.fit(x_train, y_train, epochs=3, batch_size=64, validation_split=0.2)\n",
        "\n",
        "# Evaluate the model\n",
        "loss, accuracy = model.evaluate(x_test, y_test)\n",
        "print(f'Test Loss: {loss}, Test Accuracy: {accuracy}')\n"
      ],
      "metadata": {
        "colab": {
          "base_uri": "https://localhost:8080/"
        },
        "id": "WZUc7X15WauC",
        "outputId": "c2a7b8c4-bdd5-4919-880e-5d228046d177"
      },
      "execution_count": 4,
      "outputs": [
        {
          "output_type": "stream",
          "name": "stdout",
          "text": [
            "Epoch 1/3\n",
            "313/313 [==============================] - 49s 151ms/step - loss: 0.4487 - accuracy: 0.7802 - val_loss: 0.3335 - val_accuracy: 0.8612\n",
            "Epoch 2/3\n",
            "313/313 [==============================] - 51s 164ms/step - loss: 0.2455 - accuracy: 0.9051 - val_loss: 0.3241 - val_accuracy: 0.8738\n",
            "Epoch 3/3\n",
            "313/313 [==============================] - 50s 159ms/step - loss: 0.1742 - accuracy: 0.9363 - val_loss: 0.3529 - val_accuracy: 0.8492\n",
            "782/782 [==============================] - 22s 29ms/step - loss: 0.3571 - accuracy: 0.8544\n",
            "Test Loss: 0.35707250237464905, Test Accuracy: 0.8544399738311768\n"
          ]
        }
      ]
    },
    {
      "cell_type": "code",
      "source": [],
      "metadata": {
        "id": "dA8UPnVcWixr"
      },
      "execution_count": null,
      "outputs": []
    }
  ]
}